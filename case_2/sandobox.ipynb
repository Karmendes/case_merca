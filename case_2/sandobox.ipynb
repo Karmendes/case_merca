{
 "cells": [
  {
   "cell_type": "code",
   "execution_count": 1,
   "metadata": {},
   "outputs": [],
   "source": [
    "import findspark\n",
    "findspark.init()\n",
    "\n",
    "from pyspark.sql import SparkSession\n",
    "spark = SparkSession.builder.appName(\"myAppName\").getOrCreate()\n",
    "\n",
    "from os import listdir"
   ]
  },
  {
   "cell_type": "markdown",
   "metadata": {},
   "source": [
    "# Processo de ETL"
   ]
  },
  {
   "cell_type": "code",
   "execution_count": 2,
   "metadata": {},
   "outputs": [],
   "source": [
    "class RawToProcessed:\n",
    "    def __init__(self,spark,path_in,path_out):\n",
    "        self.path_in = path_in\n",
    "        self.path_out = path_out\n",
    "        self.spark = spark\n",
    "    def csv_to_parquet(self,filename_in,filename_out,**kwargs):\n",
    "        df = self.spark.read.csv(f'{self.path_in}/{filename_in}',**kwargs)\n",
    "        df.write.parquet(f'{self.path_out}/{filename_out}.parquet')"
   ]
  },
  {
   "cell_type": "code",
   "execution_count": 3,
   "metadata": {},
   "outputs": [],
   "source": [
    "path_in = 'data/raw'\n",
    "path_out = 'data/processed'\n",
    "files = listdir(path_in)\n",
    "names = [file.split('.')[0] for file in files]"
   ]
  },
  {
   "cell_type": "code",
   "execution_count": 4,
   "metadata": {},
   "outputs": [],
   "source": [
    "processor = RawToProcessed(spark,path_in,path_out)"
   ]
  },
  {
   "cell_type": "code",
   "execution_count": 5,
   "metadata": {},
   "outputs": [],
   "source": [
    "[processor.csv_to_parquet(file,name,sep = ';',header = True) for file,name in zip(files,names)]"
   ]
  },
  {
   "cell_type": "code",
   "execution_count": null,
   "metadata": {},
   "outputs": [],
   "source": []
  }
 ],
 "metadata": {
  "kernelspec": {
   "display_name": "spark_dev",
   "language": "python",
   "name": "python3"
  },
  "language_info": {
   "codemirror_mode": {
    "name": "ipython",
    "version": 3
   },
   "file_extension": ".py",
   "mimetype": "text/x-python",
   "name": "python",
   "nbconvert_exporter": "python",
   "pygments_lexer": "ipython3",
   "version": "3.9.1"
  },
  "orig_nbformat": 4,
  "vscode": {
   "interpreter": {
    "hash": "ffc2df374d79feb9e69dfdbdeeebbc1d0cea82c10f0fd84c08485d2f5b339a1b"
   }
  }
 },
 "nbformat": 4,
 "nbformat_minor": 2
}
